{
 "cells": [
  {
   "cell_type": "markdown",
   "metadata": {},
   "source": [
    "# Consignes\n",
    "\n",
    "Intégrer le fichier USvideos.csv qui représente un ensemble de 8000 vidéos Youtube. \n",
    "\n",
    "Merger le fichier US_category_id.json pour récupérer le nom des catégories. Il conviendra de bien spécifier l'ID du document.\n",
    "\n",
    "\n",
    "# Questions \n",
    "- 1) Récupérer toutes les vidéos de la chaîne Apple.\n",
    "- 2) Compter le nombre de catégories différentes\n",
    "- 3) Si vous ne l'avez pas déjà fait, découper les tags en listes et mettre à jour les tags de chacun des documents avec une requête update.\n",
    "- 4) Récupérer les vidéos les plus vues.\n",
    "- 5) Compter le nombre moyen de vues en fonction de la catégorie.\n",
    "- 6) Récupérer les chaines Youtube avec la plus grande moyenne de likes."
   ]
  },
  {
   "cell_type": "code",
   "execution_count": 1,
   "metadata": {},
   "outputs": [],
   "source": [
    "import pandas as pd\n",
    "import pymongo\n",
    "import json"
   ]
  },
  {
   "cell_type": "code",
   "execution_count": 2,
   "metadata": {},
   "outputs": [],
   "source": [
    "client = pymongo.MongoClient(\"mongo:27017\") \n",
    "database = client['exercices']\n",
    "collection = database['youtube']"
   ]
  },
  {
   "cell_type": "code",
   "execution_count": 3,
   "metadata": {},
   "outputs": [
    {
     "data": {
      "text/html": [
       "<div>\n",
       "<style scoped>\n",
       "    .dataframe tbody tr th:only-of-type {\n",
       "        vertical-align: middle;\n",
       "    }\n",
       "\n",
       "    .dataframe tbody tr th {\n",
       "        vertical-align: top;\n",
       "    }\n",
       "\n",
       "    .dataframe thead th {\n",
       "        text-align: right;\n",
       "    }\n",
       "</style>\n",
       "<table border=\"1\" class=\"dataframe\">\n",
       "  <thead>\n",
       "    <tr style=\"text-align: right;\">\n",
       "      <th></th>\n",
       "      <th>video_id</th>\n",
       "      <th>title</th>\n",
       "      <th>channel_title</th>\n",
       "      <th>category_id</th>\n",
       "      <th>tags</th>\n",
       "      <th>views</th>\n",
       "      <th>likes</th>\n",
       "      <th>dislikes</th>\n",
       "      <th>comment_total</th>\n",
       "      <th>thumbnail_link</th>\n",
       "      <th>date</th>\n",
       "    </tr>\n",
       "  </thead>\n",
       "  <tbody>\n",
       "    <tr>\n",
       "      <th>0</th>\n",
       "      <td>XpVt6Z1Gjjo</td>\n",
       "      <td>1 YEAR OF VLOGGING -- HOW LOGAN PAUL CHANGED Y...</td>\n",
       "      <td>Logan Paul Vlogs</td>\n",
       "      <td>24</td>\n",
       "      <td>logan paul vlog|logan paul|logan|paul|olympics...</td>\n",
       "      <td>4394029</td>\n",
       "      <td>320053</td>\n",
       "      <td>5931</td>\n",
       "      <td>46245</td>\n",
       "      <td>https://i.ytimg.com/vi/XpVt6Z1Gjjo/default.jpg</td>\n",
       "      <td>13.09</td>\n",
       "    </tr>\n",
       "    <tr>\n",
       "      <th>1</th>\n",
       "      <td>K4wEI5zhHB0</td>\n",
       "      <td>iPhone X — Introducing iPhone X — Apple</td>\n",
       "      <td>Apple</td>\n",
       "      <td>28</td>\n",
       "      <td>Apple|iPhone 10|iPhone Ten|iPhone|Portrait Lig...</td>\n",
       "      <td>7860119</td>\n",
       "      <td>185853</td>\n",
       "      <td>26679</td>\n",
       "      <td>0</td>\n",
       "      <td>https://i.ytimg.com/vi/K4wEI5zhHB0/default.jpg</td>\n",
       "      <td>13.09</td>\n",
       "    </tr>\n",
       "  </tbody>\n",
       "</table>\n",
       "</div>"
      ],
      "text/plain": [
       "      video_id                                              title  \\\n",
       "0  XpVt6Z1Gjjo  1 YEAR OF VLOGGING -- HOW LOGAN PAUL CHANGED Y...   \n",
       "1  K4wEI5zhHB0            iPhone X — Introducing iPhone X — Apple   \n",
       "\n",
       "      channel_title  category_id  \\\n",
       "0  Logan Paul Vlogs           24   \n",
       "1             Apple           28   \n",
       "\n",
       "                                                tags    views   likes  \\\n",
       "0  logan paul vlog|logan paul|logan|paul|olympics...  4394029  320053   \n",
       "1  Apple|iPhone 10|iPhone Ten|iPhone|Portrait Lig...  7860119  185853   \n",
       "\n",
       "   dislikes  comment_total                                  thumbnail_link  \\\n",
       "0      5931          46245  https://i.ytimg.com/vi/XpVt6Z1Gjjo/default.jpg   \n",
       "1     26679              0  https://i.ytimg.com/vi/K4wEI5zhHB0/default.jpg   \n",
       "\n",
       "    date  \n",
       "0  13.09  \n",
       "1  13.09  "
      ]
     },
     "execution_count": 3,
     "metadata": {},
     "output_type": "execute_result"
    }
   ],
   "source": [
    "df_youtube = pd.read_csv(\"./data/USvideos.csv\")\n",
    "df_youtube.head(2)"
   ]
  },
  {
   "cell_type": "markdown",
   "metadata": {},
   "source": [
    "## Question 0"
   ]
  },
  {
   "cell_type": "markdown",
   "metadata": {},
   "source": [
    "### Nettoyer les données"
   ]
  },
  {
   "cell_type": "code",
   "execution_count": 4,
   "metadata": {},
   "outputs": [],
   "source": [
    "# Convertir colonne date en date\n",
    "df_youtube['date']= pd.to_datetime(\"2018.\" + df_youtube['date'].astype(str), format='%Y.%d.%m')"
   ]
  },
  {
   "cell_type": "code",
   "execution_count": 5,
   "metadata": {
    "scrolled": true
   },
   "outputs": [
    {
     "data": {
      "text/html": [
       "<div>\n",
       "<style scoped>\n",
       "    .dataframe tbody tr th:only-of-type {\n",
       "        vertical-align: middle;\n",
       "    }\n",
       "\n",
       "    .dataframe tbody tr th {\n",
       "        vertical-align: top;\n",
       "    }\n",
       "\n",
       "    .dataframe thead th {\n",
       "        text-align: right;\n",
       "    }\n",
       "</style>\n",
       "<table border=\"1\" class=\"dataframe\">\n",
       "  <thead>\n",
       "    <tr style=\"text-align: right;\">\n",
       "      <th></th>\n",
       "      <th>video_id</th>\n",
       "      <th>title</th>\n",
       "      <th>channel_title</th>\n",
       "      <th>category_id</th>\n",
       "      <th>tags</th>\n",
       "      <th>views</th>\n",
       "      <th>likes</th>\n",
       "      <th>dislikes</th>\n",
       "      <th>comment_total</th>\n",
       "      <th>thumbnail_link</th>\n",
       "      <th>date</th>\n",
       "    </tr>\n",
       "  </thead>\n",
       "  <tbody>\n",
       "    <tr>\n",
       "      <th>0</th>\n",
       "      <td>XpVt6Z1Gjjo</td>\n",
       "      <td>1 YEAR OF VLOGGING -- HOW LOGAN PAUL CHANGED Y...</td>\n",
       "      <td>Logan Paul Vlogs</td>\n",
       "      <td>24</td>\n",
       "      <td>logan paul vlog|logan paul|logan|paul|olympics...</td>\n",
       "      <td>4394029</td>\n",
       "      <td>320053</td>\n",
       "      <td>5931</td>\n",
       "      <td>46245</td>\n",
       "      <td>https://i.ytimg.com/vi/XpVt6Z1Gjjo/default.jpg</td>\n",
       "      <td>2018-09-13</td>\n",
       "    </tr>\n",
       "    <tr>\n",
       "      <th>1</th>\n",
       "      <td>K4wEI5zhHB0</td>\n",
       "      <td>iPhone X — Introducing iPhone X — Apple</td>\n",
       "      <td>Apple</td>\n",
       "      <td>28</td>\n",
       "      <td>Apple|iPhone 10|iPhone Ten|iPhone|Portrait Lig...</td>\n",
       "      <td>7860119</td>\n",
       "      <td>185853</td>\n",
       "      <td>26679</td>\n",
       "      <td>0</td>\n",
       "      <td>https://i.ytimg.com/vi/K4wEI5zhHB0/default.jpg</td>\n",
       "      <td>2018-09-13</td>\n",
       "    </tr>\n",
       "  </tbody>\n",
       "</table>\n",
       "</div>"
      ],
      "text/plain": [
       "      video_id                                              title  \\\n",
       "0  XpVt6Z1Gjjo  1 YEAR OF VLOGGING -- HOW LOGAN PAUL CHANGED Y...   \n",
       "1  K4wEI5zhHB0            iPhone X — Introducing iPhone X — Apple   \n",
       "\n",
       "      channel_title  category_id  \\\n",
       "0  Logan Paul Vlogs           24   \n",
       "1             Apple           28   \n",
       "\n",
       "                                                tags    views   likes  \\\n",
       "0  logan paul vlog|logan paul|logan|paul|olympics...  4394029  320053   \n",
       "1  Apple|iPhone 10|iPhone Ten|iPhone|Portrait Lig...  7860119  185853   \n",
       "\n",
       "   dislikes  comment_total                                  thumbnail_link  \\\n",
       "0      5931          46245  https://i.ytimg.com/vi/XpVt6Z1Gjjo/default.jpg   \n",
       "1     26679              0  https://i.ytimg.com/vi/K4wEI5zhHB0/default.jpg   \n",
       "\n",
       "        date  \n",
       "0 2018-09-13  \n",
       "1 2018-09-13  "
      ]
     },
     "execution_count": 5,
     "metadata": {},
     "output_type": "execute_result"
    }
   ],
   "source": [
    "df_youtube.head(2)"
   ]
  },
  {
   "cell_type": "code",
   "execution_count": 6,
   "metadata": {},
   "outputs": [],
   "source": [
    "# Récupérer uniquement la dernière vidéo \n",
    "# pour celles présente plusieurs fois dans df_youtube\n",
    "\n",
    "for i in df_youtube['video_id'].unique():\n",
    "    s_df= df_youtube[df_youtube['video_id']==i]\n",
    "    latest = s_df['date'].max()\n",
    "    oldest = s_df[s_df['date']!=latest]\n",
    "    df_youtube= df_youtube.drop(oldest.index)"
   ]
  },
  {
   "cell_type": "code",
   "execution_count": 7,
   "metadata": {},
   "outputs": [],
   "source": [
    "# Changer l'id des categories par leurs noms\n",
    "\n",
    "f = open(\"./data/US_category_id.json\", \"r\")\n",
    "categories = json.load(f)\n",
    "\n",
    "cat={} # id des categories associés à leurs noms\n",
    "for i in categories['items']:\n",
    "    cat[i['id']]= i['snippet']['title']\n",
    "\n",
    "# modification dans la dataframe\n",
    "for i in df_youtube['category_id']:\n",
    "    i= df_youtube['category_id'].replace(i, cat[str(i)], inplace=True)\n",
    "df_youtube= df_youtube.rename(columns={\"category_id\":\"category\"})"
   ]
  },
  {
   "cell_type": "code",
   "execution_count": 8,
   "metadata": {},
   "outputs": [
    {
     "data": {
      "text/html": [
       "<div>\n",
       "<style scoped>\n",
       "    .dataframe tbody tr th:only-of-type {\n",
       "        vertical-align: middle;\n",
       "    }\n",
       "\n",
       "    .dataframe tbody tr th {\n",
       "        vertical-align: top;\n",
       "    }\n",
       "\n",
       "    .dataframe thead th {\n",
       "        text-align: right;\n",
       "    }\n",
       "</style>\n",
       "<table border=\"1\" class=\"dataframe\">\n",
       "  <thead>\n",
       "    <tr style=\"text-align: right;\">\n",
       "      <th></th>\n",
       "      <th>video_id</th>\n",
       "      <th>title</th>\n",
       "      <th>channel_title</th>\n",
       "      <th>category</th>\n",
       "      <th>tags</th>\n",
       "      <th>views</th>\n",
       "      <th>likes</th>\n",
       "      <th>dislikes</th>\n",
       "      <th>comment_total</th>\n",
       "      <th>thumbnail_link</th>\n",
       "      <th>date</th>\n",
       "    </tr>\n",
       "  </thead>\n",
       "  <tbody>\n",
       "    <tr>\n",
       "      <th>22</th>\n",
       "      <td>5ywKal6-anc</td>\n",
       "      <td>Gigi Hadid Loses High Heel During Fashion Week...</td>\n",
       "      <td>TMZ</td>\n",
       "      <td>Entertainment</td>\n",
       "      <td>TMZ2016FS11221|TMZ|Hollywood|Celebrity|Enterta...</td>\n",
       "      <td>703750</td>\n",
       "      <td>2921</td>\n",
       "      <td>2196</td>\n",
       "      <td>1042</td>\n",
       "      <td>https://i.ytimg.com/vi/5ywKal6-anc/default.jpg</td>\n",
       "      <td>2018-09-13</td>\n",
       "    </tr>\n",
       "    <tr>\n",
       "      <th>33</th>\n",
       "      <td>GGm0FQ6i74U</td>\n",
       "      <td>What Hillary Clinton really thinks</td>\n",
       "      <td>Vox</td>\n",
       "      <td>News &amp; Politics</td>\n",
       "      <td>vox.com|vox|explain|ezra klein|hillary clinton...</td>\n",
       "      <td>244433</td>\n",
       "      <td>9143</td>\n",
       "      <td>6826</td>\n",
       "      <td>4838</td>\n",
       "      <td>https://i.ytimg.com/vi/GGm0FQ6i74U/default.jpg</td>\n",
       "      <td>2018-09-13</td>\n",
       "    </tr>\n",
       "  </tbody>\n",
       "</table>\n",
       "</div>"
      ],
      "text/plain": [
       "       video_id                                              title  \\\n",
       "22  5ywKal6-anc  Gigi Hadid Loses High Heel During Fashion Week...   \n",
       "33  GGm0FQ6i74U                 What Hillary Clinton really thinks   \n",
       "\n",
       "   channel_title         category  \\\n",
       "22           TMZ    Entertainment   \n",
       "33           Vox  News & Politics   \n",
       "\n",
       "                                                 tags   views  likes  \\\n",
       "22  TMZ2016FS11221|TMZ|Hollywood|Celebrity|Enterta...  703750   2921   \n",
       "33  vox.com|vox|explain|ezra klein|hillary clinton...  244433   9143   \n",
       "\n",
       "    dislikes  comment_total                                  thumbnail_link  \\\n",
       "22      2196           1042  https://i.ytimg.com/vi/5ywKal6-anc/default.jpg   \n",
       "33      6826           4838  https://i.ytimg.com/vi/GGm0FQ6i74U/default.jpg   \n",
       "\n",
       "         date  \n",
       "22 2018-09-13  \n",
       "33 2018-09-13  "
      ]
     },
     "execution_count": 8,
     "metadata": {},
     "output_type": "execute_result"
    }
   ],
   "source": [
    "df_youtube.head(2)"
   ]
  },
  {
   "cell_type": "code",
   "execution_count": 9,
   "metadata": {},
   "outputs": [],
   "source": [
    "# Modifications des tags afin de les transformer en liste\n",
    "tags= []\n",
    "for i in df_youtube['tags'] :\n",
    "    tags.append(i.split(\"|\"))\n",
    "# Remplace l'ancienne colonne tag par la nouvelle\n",
    "df_youtube.drop(columns= 'tags')\n",
    "df_youtube['tags']= tags"
   ]
  },
  {
   "cell_type": "code",
   "execution_count": 10,
   "metadata": {},
   "outputs": [
    {
     "data": {
      "text/html": [
       "<div>\n",
       "<style scoped>\n",
       "    .dataframe tbody tr th:only-of-type {\n",
       "        vertical-align: middle;\n",
       "    }\n",
       "\n",
       "    .dataframe tbody tr th {\n",
       "        vertical-align: top;\n",
       "    }\n",
       "\n",
       "    .dataframe thead th {\n",
       "        text-align: right;\n",
       "    }\n",
       "</style>\n",
       "<table border=\"1\" class=\"dataframe\">\n",
       "  <thead>\n",
       "    <tr style=\"text-align: right;\">\n",
       "      <th></th>\n",
       "      <th>video_id</th>\n",
       "      <th>title</th>\n",
       "      <th>channel_title</th>\n",
       "      <th>category</th>\n",
       "      <th>tags</th>\n",
       "      <th>views</th>\n",
       "      <th>likes</th>\n",
       "      <th>dislikes</th>\n",
       "      <th>comment_total</th>\n",
       "      <th>thumbnail_link</th>\n",
       "      <th>date</th>\n",
       "    </tr>\n",
       "  </thead>\n",
       "  <tbody>\n",
       "    <tr>\n",
       "      <th>22</th>\n",
       "      <td>5ywKal6-anc</td>\n",
       "      <td>Gigi Hadid Loses High Heel During Fashion Week...</td>\n",
       "      <td>TMZ</td>\n",
       "      <td>Entertainment</td>\n",
       "      <td>[TMZ2016FS11221, TMZ, Hollywood, Celebrity, En...</td>\n",
       "      <td>703750</td>\n",
       "      <td>2921</td>\n",
       "      <td>2196</td>\n",
       "      <td>1042</td>\n",
       "      <td>https://i.ytimg.com/vi/5ywKal6-anc/default.jpg</td>\n",
       "      <td>2018-09-13</td>\n",
       "    </tr>\n",
       "    <tr>\n",
       "      <th>33</th>\n",
       "      <td>GGm0FQ6i74U</td>\n",
       "      <td>What Hillary Clinton really thinks</td>\n",
       "      <td>Vox</td>\n",
       "      <td>News &amp; Politics</td>\n",
       "      <td>[vox.com, vox, explain, ezra klein, hillary cl...</td>\n",
       "      <td>244433</td>\n",
       "      <td>9143</td>\n",
       "      <td>6826</td>\n",
       "      <td>4838</td>\n",
       "      <td>https://i.ytimg.com/vi/GGm0FQ6i74U/default.jpg</td>\n",
       "      <td>2018-09-13</td>\n",
       "    </tr>\n",
       "  </tbody>\n",
       "</table>\n",
       "</div>"
      ],
      "text/plain": [
       "       video_id                                              title  \\\n",
       "22  5ywKal6-anc  Gigi Hadid Loses High Heel During Fashion Week...   \n",
       "33  GGm0FQ6i74U                 What Hillary Clinton really thinks   \n",
       "\n",
       "   channel_title         category  \\\n",
       "22           TMZ    Entertainment   \n",
       "33           Vox  News & Politics   \n",
       "\n",
       "                                                 tags   views  likes  \\\n",
       "22  [TMZ2016FS11221, TMZ, Hollywood, Celebrity, En...  703750   2921   \n",
       "33  [vox.com, vox, explain, ezra klein, hillary cl...  244433   9143   \n",
       "\n",
       "    dislikes  comment_total                                  thumbnail_link  \\\n",
       "22      2196           1042  https://i.ytimg.com/vi/5ywKal6-anc/default.jpg   \n",
       "33      6826           4838  https://i.ytimg.com/vi/GGm0FQ6i74U/default.jpg   \n",
       "\n",
       "         date  \n",
       "22 2018-09-13  \n",
       "33 2018-09-13  "
      ]
     },
     "execution_count": 10,
     "metadata": {},
     "output_type": "execute_result"
    }
   ],
   "source": [
    "df_youtube.head(2)"
   ]
  },
  {
   "cell_type": "markdown",
   "metadata": {
    "slideshow": {
     "slide_type": "slide"
    }
   },
   "source": [
    "### Importer les données"
   ]
  },
  {
   "cell_type": "code",
   "execution_count": 11,
   "metadata": {},
   "outputs": [],
   "source": [
    "df_youtube= df_youtube.rename(columns={\"video_id\":\"_id\"})\n",
    "\n",
    "# Spécifier ID des documents"
   ]
  },
  {
   "cell_type": "code",
   "execution_count": 12,
   "metadata": {},
   "outputs": [
    {
     "data": {
      "text/plain": [
       "<pymongo.results.InsertManyResult at 0x7f0dd4ddcc00>"
      ]
     },
     "execution_count": 12,
     "metadata": {},
     "output_type": "execute_result"
    }
   ],
   "source": [
    "payload = json.loads(df_youtube.to_json(orient='records'))\n",
    "collection.delete_many({}) #pour nettoyer la collection\n",
    "collection.insert_many(payload)"
   ]
  },
  {
   "cell_type": "code",
   "execution_count": 13,
   "metadata": {},
   "outputs": [
    {
     "data": {
      "text/plain": [
       "{'_id': '5ywKal6-anc',\n",
       " 'title': 'Gigi Hadid Loses High Heel During Fashion Week, Walks It Off Like a Pro | TMZ',\n",
       " 'channel_title': 'TMZ',\n",
       " 'category': 'Entertainment',\n",
       " 'tags': ['TMZ2016FS11221',\n",
       "  'TMZ',\n",
       "  'Hollywood',\n",
       "  'Celebrity',\n",
       "  'Entertainment',\n",
       "  'Famous',\n",
       "  'Hollywood News',\n",
       "  'Fame',\n",
       "  'Entertainment News'],\n",
       " 'views': 703750,\n",
       " 'likes': 2921,\n",
       " 'dislikes': 2196,\n",
       " 'comment_total': 1042,\n",
       " 'thumbnail_link': 'https://i.ytimg.com/vi/5ywKal6-anc/default.jpg',\n",
       " 'date': 1536796800000}"
      ]
     },
     "execution_count": 13,
     "metadata": {},
     "output_type": "execute_result"
    }
   ],
   "source": [
    "collection.find_one() # Vérifie que les modifications ont bien été réalisé"
   ]
  },
  {
   "cell_type": "markdown",
   "metadata": {},
   "source": [
    "## Question 1  "
   ]
  },
  {
   "cell_type": "code",
   "execution_count": 14,
   "metadata": {},
   "outputs": [
    {
     "data": {
      "text/plain": [
       "[{'_id': 'K4wEI5zhHB0',\n",
       "  'title': 'iPhone X — Introducing iPhone X — Apple',\n",
       "  'channel_title': 'Apple',\n",
       "  'category': 'Science & Technology',\n",
       "  'tags': ['Apple',\n",
       "   'iPhone 10',\n",
       "   'iPhone Ten',\n",
       "   'iPhone',\n",
       "   'Portrait Lighting',\n",
       "   'A11 Bionic',\n",
       "   'augmented reality',\n",
       "   'emoji',\n",
       "   'animoji',\n",
       "   'Face ID',\n",
       "   'Apple Pay',\n",
       "   'camera',\n",
       "   'smartphone'],\n",
       "  'views': 19707391,\n",
       "  'likes': 381919,\n",
       "  'dislikes': 69465,\n",
       "  'comment_total': 0,\n",
       "  'thumbnail_link': 'https://i.ytimg.com/vi/K4wEI5zhHB0/default.jpg',\n",
       "  'date': 1537142400000},\n",
       " {'_id': 'A9k88sMyiJM',\n",
       "  'title': 'Apple Watch Series 3 + Apple Music — Roll — Apple',\n",
       "  'channel_title': 'Apple',\n",
       "  'category': 'Science & Technology',\n",
       "  'tags': ['Apple',\n",
       "   'airpods',\n",
       "   'apple watch',\n",
       "   'apple watch series 3',\n",
       "   'apple watch cellular',\n",
       "   'apple watch 4g',\n",
       "   'apple music',\n",
       "   '40 million songs on your wrist',\n",
       "   'apple skateboard ad',\n",
       "   'apple train station ad',\n",
       "   'apple roll ad',\n",
       "   'apple watch skateboard ad',\n",
       "   'apple watch train station ad',\n",
       "   'apple watch roll ad',\n",
       "   'airpods skateboard ad',\n",
       "   'airpods train station ad',\n",
       "   'airpods roll ad',\n",
       "   'apple music skateboard ad',\n",
       "   'apple music train station ad',\n",
       "   'apple music roll ad',\n",
       "   'misbehaving'],\n",
       "  'views': 4112187,\n",
       "  'likes': 26609,\n",
       "  'dislikes': 8982,\n",
       "  'comment_total': 0,\n",
       "  'thumbnail_link': 'https://i.ytimg.com/vi/A9k88sMyiJM/default.jpg',\n",
       "  'date': 1537401600000},\n",
       " {'_id': 'REZl-ANYKKY',\n",
       "  'title': 'iPhone 8 Plus — Portraits of Her  — Apple',\n",
       "  'channel_title': 'Apple',\n",
       "  'category': 'Science & Technology',\n",
       "  'tags': ['Apple',\n",
       "   'new',\n",
       "   'iPhone',\n",
       "   'iPhone 8',\n",
       "   'iPhone 8 Plus',\n",
       "   'iOS 11',\n",
       "   '4.7-inch',\n",
       "   '5.5-inch',\n",
       "   'Portrait Lighting',\n",
       "   'Shot on iPhone',\n",
       "   'camera',\n",
       "   'iphonography',\n",
       "   'smartphone',\n",
       "   'This Strange Effect',\n",
       "   'The Shacks'],\n",
       "  'views': 183325,\n",
       "  'likes': 1700,\n",
       "  'dislikes': 570,\n",
       "  'comment_total': 0,\n",
       "  'thumbnail_link': 'https://i.ytimg.com/vi/REZl-ANYKKY/default.jpg',\n",
       "  'date': 1515110400000}]"
      ]
     },
     "execution_count": 14,
     "metadata": {},
     "output_type": "execute_result"
    }
   ],
   "source": [
    "# vidéos de la chaîne Apple\n",
    "cur= collection.find({\"channel_title\":\"Apple\"})\n",
    "list(cur)"
   ]
  },
  {
   "cell_type": "markdown",
   "metadata": {},
   "source": [
    "## Question 2"
   ]
  },
  {
   "cell_type": "code",
   "execution_count": 15,
   "metadata": {},
   "outputs": [
    {
     "data": {
      "text/plain": [
       "16"
      ]
     },
     "execution_count": 15,
     "metadata": {},
     "output_type": "execute_result"
    }
   ],
   "source": [
    "# nombre de catégories différentes\n",
    "len(collection.distinct('category'))"
   ]
  },
  {
   "cell_type": "markdown",
   "metadata": {},
   "source": [
    "## Question 3"
   ]
  },
  {
   "cell_type": "code",
   "execution_count": 16,
   "metadata": {},
   "outputs": [],
   "source": [
    "# Je l'ai directement réalisé dans la partie nettoyage, car plus simple\n",
    "# Mais si nous devions vraiment modifier et mettre à jour avec une requêtre update\n",
    "# nous aurions dû utiliser une boucle for afin qu'elle parcourt chacun des documents\n",
    "# et qu'elle mettre à jour avec les tags un à un"
   ]
  },
  {
   "cell_type": "markdown",
   "metadata": {},
   "source": [
    "## Question 4"
   ]
  },
  {
   "cell_type": "code",
   "execution_count": 17,
   "metadata": {},
   "outputs": [
    {
     "data": {
      "text/plain": [
       "[{'_id': 'MBdVXkSdhwU',\n",
       "  'title': \"BTS (방탄소년단) 'DNA' Official MV\",\n",
       "  'channel_title': 'ibighit',\n",
       "  'category': 'Music',\n",
       "  'tags': ['BIGHIT', '빅히트', '방탄소년단', 'BTS', 'BANGTAN', '방탄'],\n",
       "  'views': 41500672,\n",
       "  'likes': 2010366,\n",
       "  'dislikes': 78076,\n",
       "  'comment_total': 736179,\n",
       "  'thumbnail_link': 'https://i.ytimg.com/vi/MBdVXkSdhwU/default.jpg',\n",
       "  'date': 1537574400000},\n",
       " {'_id': 'tt2k8PGm-TI',\n",
       "  'title': 'ZAYN - Dusk Till Dawn ft. Sia',\n",
       "  'channel_title': 'ZaynVEVO',\n",
       "  'category': 'Music',\n",
       "  'tags': ['Dusk Till Dawn', 'Pop', 'RCA Records Label', 'ZAYN feat. Sia'],\n",
       "  'views': 36323498,\n",
       "  'likes': 1431683,\n",
       "  'dislikes': 28049,\n",
       "  'comment_total': 100661,\n",
       "  'thumbnail_link': 'https://i.ytimg.com/vi/tt2k8PGm-TI/default.jpg',\n",
       "  'date': 1536796800000},\n",
       " {'_id': 'LunHybOKIjU',\n",
       "  'title': 'Eminem Rips Donald Trump In BET Hip Hop Awards Freestyle Cypher',\n",
       "  'channel_title': 'BETNetworks',\n",
       "  'category': 'Entertainment',\n",
       "  'tags': ['BET',\n",
       "   'BET Networks',\n",
       "   'BET Music',\n",
       "   'Black Entertainment Television',\n",
       "   'eminem',\n",
       "   'freestyle',\n",
       "   'full',\n",
       "   'hip hop awards',\n",
       "   'hip hop awards 2017',\n",
       "   'bet hip hop awards',\n",
       "   'donald trump',\n",
       "   'potus',\n",
       "   'full freestyle',\n",
       "   'EMINEM TRUMP',\n",
       "   'TRUMP TWITTER',\n",
       "   'trump tweet',\n",
       "   'trump nfl',\n",
       "   'eminem bet cypher',\n",
       "   'bet cypher',\n",
       "   'eminem freestyle',\n",
       "   '8 mile',\n",
       "   'eminem new album',\n",
       "   'trump diss',\n",
       "   'eminem trump diss'],\n",
       "  'views': 33191594,\n",
       "  'likes': 982842,\n",
       "  'dislikes': 184310,\n",
       "  'comment_total': 337603,\n",
       "  'thumbnail_link': 'https://i.ytimg.com/vi/LunHybOKIjU/default.jpg',\n",
       "  'date': 1516233600000}]"
      ]
     },
     "execution_count": 17,
     "metadata": {},
     "output_type": "execute_result"
    }
   ],
   "source": [
    "# Les 3 vidéos les plus vues\n",
    "cur = collection.find().sort([(\"views\",-1)]).limit(3)\n",
    "list(cur)"
   ]
  },
  {
   "cell_type": "markdown",
   "metadata": {},
   "source": [
    "## Question 5"
   ]
  },
  {
   "cell_type": "code",
   "execution_count": 18,
   "metadata": {},
   "outputs": [
    {
     "data": {
      "text/plain": [
       "[{'_id': 'Pets & Animals', 'views_mean': 592803.6052631579},\n",
       " {'_id': 'Film & Animation', 'views_mean': 954403.7227722772},\n",
       " {'_id': 'Music', 'views_mean': 1384238.0746268656},\n",
       " {'_id': 'Gaming', 'views_mean': 772871.5},\n",
       " {'_id': 'Sports', 'views_mean': 611369.9463087248},\n",
       " {'_id': 'Autos & Vehicles', 'views_mean': 621971.3783783783},\n",
       " {'_id': 'People & Blogs', 'views_mean': 878460.2178988326},\n",
       " {'_id': 'Travel & Events', 'views_mean': 425081.27777777775},\n",
       " {'_id': 'Howto & Style', 'views_mean': 548577.6679389313},\n",
       " {'_id': 'Science & Technology', 'views_mean': 850247.4039735099},\n",
       " {'_id': 'Comedy', 'views_mean': 1294886.5117370891},\n",
       " {'_id': 'Entertainment', 'views_mean': 1049658.8490566039},\n",
       " {'_id': 'Nonprofits & Activism', 'views_mean': 681178.2},\n",
       " {'_id': 'News & Politics', 'views_mean': 500835.595959596},\n",
       " {'_id': 'Shows', 'views_mean': 8726.0},\n",
       " {'_id': 'Education', 'views_mean': 542851.9680851063}]"
      ]
     },
     "execution_count": 18,
     "metadata": {},
     "output_type": "execute_result"
    }
   ],
   "source": [
    "# nombre moyen de vues en fonction de la catégorie\n",
    "cur = collection.aggregate([\n",
    "    {\"$group\" : {\n",
    "        \"_id\" : \"$category\", \n",
    "        \"views_mean\" : {\"$avg\": \"$views\"}\n",
    "    }}\n",
    "])\n",
    "list(cur)"
   ]
  },
  {
   "cell_type": "markdown",
   "metadata": {},
   "source": [
    "## Question 6 "
   ]
  },
  {
   "cell_type": "code",
   "execution_count": 19,
   "metadata": {},
   "outputs": [
    {
     "data": {
      "text/plain": [
       "[{'_id': 'ZaynVEVO', 'views_mean': 36323498.0},\n",
       " {'_id': 'BETNetworks', 'views_mean': 33191594.0},\n",
       " {'_id': 'shakiraVEVO', 'views_mean': 32136948.0},\n",
       " {'_id': 'ibighit', 'views_mean': 28268247.0},\n",
       " {'_id': 'Primitive Technology', 'views_mean': 15579127.0}]"
      ]
     },
     "execution_count": 19,
     "metadata": {},
     "output_type": "execute_result"
    }
   ],
   "source": [
    "# chaines Youtube avec la plus grande moyenne de likes\n",
    "cur = collection.aggregate([\n",
    "    {\"$group\" : {\n",
    "        \"_id\" : \"$channel_title\", \n",
    "        \"views_mean\" : {\"$avg\": \"$views\"}\n",
    "    }},\n",
    "    {\"$sort\" : {\"views_mean\": -1}},\n",
    "    {\"$limit\": 5}\n",
    "])\n",
    "list(cur)"
   ]
  },
  {
   "cell_type": "code",
   "execution_count": null,
   "metadata": {},
   "outputs": [],
   "source": []
  },
  {
   "cell_type": "code",
   "execution_count": null,
   "metadata": {},
   "outputs": [],
   "source": []
  },
  {
   "cell_type": "code",
   "execution_count": null,
   "metadata": {},
   "outputs": [],
   "source": []
  }
 ],
 "metadata": {
  "kernelspec": {
   "display_name": "Python 3 (ipykernel)",
   "language": "python",
   "name": "python3"
  },
  "language_info": {
   "codemirror_mode": {
    "name": "ipython",
    "version": 3
   },
   "file_extension": ".py",
   "mimetype": "text/x-python",
   "name": "python",
   "nbconvert_exporter": "python",
   "pygments_lexer": "ipython3",
   "version": "3.8.12"
  }
 },
 "nbformat": 4,
 "nbformat_minor": 2
}
